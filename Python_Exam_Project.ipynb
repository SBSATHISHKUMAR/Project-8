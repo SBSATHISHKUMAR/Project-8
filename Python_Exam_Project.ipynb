{
  "nbformat": 4,
  "nbformat_minor": 0,
  "metadata": {
    "colab": {
      "name": "Python Exam Project.ipynb",
      "provenance": [],
      "authorship_tag": "ABX9TyPhf5QJnhVh0+8Zq9Vaknel",
      "include_colab_link": true
    },
    "kernelspec": {
      "name": "python3",
      "display_name": "Python 3"
    },
    "language_info": {
      "name": "python"
    }
  },
  "cells": [
    {
      "cell_type": "markdown",
      "metadata": {
        "id": "view-in-github",
        "colab_type": "text"
      },
      "source": [
        "<a href=\"https://colab.research.google.com/github/SBSATHISHKUMAR/Project-8/blob/main/Python_Exam_Project.ipynb\" target=\"_parent\"><img src=\"https://colab.research.google.com/assets/colab-badge.svg\" alt=\"Open In Colab\"/></a>"
      ]
    },
    {
      "cell_type": "code",
      "execution_count": 1,
      "metadata": {
        "colab": {
          "base_uri": "https://localhost:8080/"
        },
        "id": "JbRaayn5AMhD",
        "outputId": "16ff5f67-8645-4f90-b7af-b2c2e2c88ce6"
      },
      "outputs": [
        {
          "output_type": "stream",
          "name": "stdout",
          "text": [
            "['He is good boy', 'He is an awesome player', 'She is the best', 'These burgers are really nice']\n",
            "['Food is worst here', 'The pizza tastes awful']\n"
          ]
        }
      ],
      "source": [
        "p=['good','best','awesome','nice']\n",
        "n=['worst','awful']\n",
        "pl=[]\n",
        "nl=[]\n",
        "c=['He is good boy','Food is worst here','He is an awesome player','She is the best','The pizza tastes awful','These burgers are really nice']\n",
        "for j in range(0,1):    \n",
        "    for i in range(0,len(c)):\n",
        "        if p[j] in c[i] or p[j+1] in c[i] or p[j+2] in c[i] or p[j+3] in c[i]:\n",
        "            pl.append(c[i])\n",
        "        elif n[j] in c[i] or n[j+1] in c[i]:\n",
        "            nl.append(c[i])\n",
        "print(pl)\n",
        "print(nl)"
      ]
    },
    {
      "cell_type": "code",
      "source": [
        "def addi(n):\n",
        "    dict = { 'Square': lambda a : a**2, \n",
        "         'Cube': lambda a : a**3, \n",
        "         'Squareroot': lambda a : a**(1/2)}\n",
        "    sum = 0\n",
        "    for key in dict.keys():\n",
        "        sum += dict[key](n)\n",
        "    return sum\n",
        "    \n",
        "print(addi(int(input(\"Enter the Number\"))))"
      ],
      "metadata": {
        "colab": {
          "base_uri": "https://localhost:8080/"
        },
        "id": "sv3LMtcSAR1X",
        "outputId": "6639b272-6f6a-4894-c029-b88836d2525a"
      },
      "execution_count": 4,
      "outputs": [
        {
          "output_type": "stream",
          "name": "stdout",
          "text": [
            "Enter the Number3\n",
            "37.732050807568875\n",
            "Sour Fruits: ['Lemon', 'Grapes', 'Kiwi', 'Orange', 'Limes']\n"
          ]
        }
      ]
    },
    {
      "cell_type": "code",
      "source": [
        "#3\n",
        "fruits = (('Lemon', 'sour'),\n",
        "('DragonFruit', 'Sweet'),\n",
        "('Grapes', 'soUr'),\n",
        "('Kiwi', 'Sour'),\n",
        "('Apples', 'sweet'),\n",
        "('Orange','sour'),\n",
        "('Blueberries','sweet'),\n",
        "('Limes','Sour')\n",
        ")\n",
        "out=[]\n",
        "arr=[]\n",
        "for i in range (len(fruits)):\n",
        "    if 'sour' in fruits[i] or 'Sour' in fruits[i] or 'soUr' in fruits[i] :\n",
        "        out.append(fruits[i])\n",
        "for j in range (len(out)):\n",
        "    arr.append(out[j][0])\n",
        "print(\"Sour Fruits:\",arr)"
      ],
      "metadata": {
        "colab": {
          "base_uri": "https://localhost:8080/"
        },
        "id": "GpqAGgDvAd4E",
        "outputId": "c8358913-4eea-4e97-a052-518c53b6b391"
      },
      "execution_count": 5,
      "outputs": [
        {
          "output_type": "stream",
          "name": "stdout",
          "text": [
            "Sour Fruits: ['Lemon', 'Grapes', 'Kiwi', 'Orange', 'Limes']\n"
          ]
        }
      ]
    },
    {
      "cell_type": "code",
      "source": [
        "#4\n",
        "les=['hello','hOw','Dear','ARe','You']\n",
        "x=[]\n",
        "for i in range(0,len(les)):\n",
        "    a=les[i]\n",
        "    if a[1].isupper():\n",
        "        x.append(a)\n",
        "print(x)"
      ],
      "metadata": {
        "colab": {
          "base_uri": "https://localhost:8080/"
        },
        "id": "FH_6jv0PA_mz",
        "outputId": "d643ad16-e6c1-41e7-fb14-350144b36399"
      },
      "execution_count": 6,
      "outputs": [
        {
          "output_type": "stream",
          "name": "stdout",
          "text": [
            "['hOw', 'ARe']\n"
          ]
        }
      ]
    },
    {
      "cell_type": "code",
      "source": [
        "#5\n",
        "WeightOnEarth = {'John':45, 'Shelly':65, 'Marry':35}\n",
        "GMoon = 1.622\n",
        "GEarth = 9.81\n",
        "WMoon = dict(map(lambda x : (x, round((WeightOnEarth[x]/GEarth)*GMoon, 2)), WeightOnEarth))\n",
        "print(\"Weight on Moon: \",WMoon)"
      ],
      "metadata": {
        "colab": {
          "base_uri": "https://localhost:8080/"
        },
        "id": "eHuNwiCFBKfc",
        "outputId": "c11d3621-bc5c-4e32-b34d-077f2840cdca"
      },
      "execution_count": 7,
      "outputs": [
        {
          "output_type": "stream",
          "name": "stdout",
          "text": [
            "Weight on Moon:  {'John': 7.44, 'Shelly': 10.75, 'Marry': 5.79}\n"
          ]
        }
      ]
    },
    {
      "cell_type": "code",
      "source": [
        "#6\n",
        "list=['santa Maria','Hello World','Marry christmas','tHank You']\n",
        "n=[]\n",
        "s=[]\n",
        "for i in list:\n",
        "  n.append(i.split(' ')[0])\n",
        "  n.append(i.split(' ')[1])\n",
        "for i in n:\n",
        "    if i[0].isupper():\n",
        "      s.append(i)\n",
        "print(\"Output:\",s)"
      ],
      "metadata": {
        "colab": {
          "base_uri": "https://localhost:8080/"
        },
        "id": "4mbEdr31BP0-",
        "outputId": "cc2acd65-1898-483a-8b6f-0658cb2c59de"
      },
      "execution_count": 8,
      "outputs": [
        {
          "output_type": "stream",
          "name": "stdout",
          "text": [
            "Output: ['Maria', 'Hello', 'World', 'Marry', 'You']\n"
          ]
        }
      ]
    },
    {
      "cell_type": "code",
      "source": [
        "#7\n",
        "given_sets= [[1,2,3,4,8], [2,3,8,5,6], [8,4,5,3,7],[6,9,8,3],[9,12,3,7,6,8,4,6,21,1,6]]\n",
        "c=set(given_sets[0]).intersection(*given_sets)\n",
        "print(\"Output:\",c)\n"
      ],
      "metadata": {
        "colab": {
          "base_uri": "https://localhost:8080/"
        },
        "id": "hBVYIhm-BVGC",
        "outputId": "d39f4f0d-83c0-4e7d-b2e1-d381744a86e5"
      },
      "execution_count": 9,
      "outputs": [
        {
          "output_type": "stream",
          "name": "stdout",
          "text": [
            "Output: {8, 3}\n"
          ]
        }
      ]
    },
    {
      "cell_type": "code",
      "source": [
        "a= [9,8,7,6,5]\n",
        "import itertools as it\n",
        "l=[]\n",
        "l = it.accumulate(list(enumerate(a)), lambda x,y: (y[0], (x[1]*(x[0]+1) + y[1])/(y[0]+1)))\n",
        "print(list(map(lambda x: x[1], l)))"
      ],
      "metadata": {
        "colab": {
          "base_uri": "https://localhost:8080/",
          "height": 227
        },
        "id": "ic-PWhDZBfQy",
        "outputId": "5b1e5492-946d-4eb9-81c5-e3bab830bdd7"
      },
      "execution_count": 14,
      "outputs": [
        {
          "output_type": "error",
          "ename": "TypeError",
          "evalue": "ignored",
          "traceback": [
            "\u001b[0;31m---------------------------------------------------------------------------\u001b[0m",
            "\u001b[0;31mTypeError\u001b[0m                                 Traceback (most recent call last)",
            "\u001b[0;32m<ipython-input-14-e02439d83867>\u001b[0m in \u001b[0;36m<module>\u001b[0;34m()\u001b[0m\n\u001b[1;32m      2\u001b[0m \u001b[0;32mimport\u001b[0m \u001b[0mitertools\u001b[0m \u001b[0;32mas\u001b[0m \u001b[0mit\u001b[0m\u001b[0;34m\u001b[0m\u001b[0;34m\u001b[0m\u001b[0m\n\u001b[1;32m      3\u001b[0m \u001b[0ml\u001b[0m\u001b[0;34m=\u001b[0m\u001b[0;34m[\u001b[0m\u001b[0;34m]\u001b[0m\u001b[0;34m\u001b[0m\u001b[0;34m\u001b[0m\u001b[0m\n\u001b[0;32m----> 4\u001b[0;31m \u001b[0ml\u001b[0m \u001b[0;34m=\u001b[0m \u001b[0mit\u001b[0m\u001b[0;34m.\u001b[0m\u001b[0maccumulate\u001b[0m\u001b[0;34m(\u001b[0m\u001b[0mlist\u001b[0m\u001b[0;34m(\u001b[0m\u001b[0menumerate\u001b[0m\u001b[0;34m(\u001b[0m\u001b[0ma\u001b[0m\u001b[0;34m)\u001b[0m\u001b[0;34m)\u001b[0m\u001b[0;34m,\u001b[0m \u001b[0;32mlambda\u001b[0m \u001b[0mx\u001b[0m\u001b[0;34m,\u001b[0m\u001b[0my\u001b[0m\u001b[0;34m:\u001b[0m \u001b[0;34m(\u001b[0m\u001b[0my\u001b[0m\u001b[0;34m[\u001b[0m\u001b[0;36m0\u001b[0m\u001b[0;34m]\u001b[0m\u001b[0;34m,\u001b[0m \u001b[0;34m(\u001b[0m\u001b[0mx\u001b[0m\u001b[0;34m[\u001b[0m\u001b[0;36m1\u001b[0m\u001b[0;34m]\u001b[0m\u001b[0;34m*\u001b[0m\u001b[0;34m(\u001b[0m\u001b[0mx\u001b[0m\u001b[0;34m[\u001b[0m\u001b[0;36m0\u001b[0m\u001b[0;34m]\u001b[0m\u001b[0;34m+\u001b[0m\u001b[0;36m1\u001b[0m\u001b[0;34m)\u001b[0m \u001b[0;34m+\u001b[0m \u001b[0my\u001b[0m\u001b[0;34m[\u001b[0m\u001b[0;36m1\u001b[0m\u001b[0;34m]\u001b[0m\u001b[0;34m)\u001b[0m\u001b[0;34m/\u001b[0m\u001b[0;34m(\u001b[0m\u001b[0my\u001b[0m\u001b[0;34m[\u001b[0m\u001b[0;36m0\u001b[0m\u001b[0;34m]\u001b[0m\u001b[0;34m+\u001b[0m\u001b[0;36m1\u001b[0m\u001b[0;34m)\u001b[0m\u001b[0;34m)\u001b[0m\u001b[0;34m)\u001b[0m\u001b[0;34m\u001b[0m\u001b[0;34m\u001b[0m\u001b[0m\n\u001b[0m\u001b[1;32m      5\u001b[0m \u001b[0mprint\u001b[0m\u001b[0;34m(\u001b[0m\u001b[0mlist\u001b[0m\u001b[0;34m(\u001b[0m\u001b[0mmap\u001b[0m\u001b[0;34m(\u001b[0m\u001b[0;32mlambda\u001b[0m \u001b[0mx\u001b[0m\u001b[0;34m:\u001b[0m \u001b[0mx\u001b[0m\u001b[0;34m[\u001b[0m\u001b[0;36m1\u001b[0m\u001b[0;34m]\u001b[0m\u001b[0;34m,\u001b[0m \u001b[0ml\u001b[0m\u001b[0;34m)\u001b[0m\u001b[0;34m)\u001b[0m\u001b[0;34m)\u001b[0m\u001b[0;34m\u001b[0m\u001b[0;34m\u001b[0m\u001b[0m\n",
            "\u001b[0;31mTypeError\u001b[0m: 'list' object is not callable"
          ]
        }
      ]
    },
    {
      "cell_type": "code",
      "source": [
        "isbool = ['True','FALse','tRUe','tRue','False','faLse']\n",
        "result = map(lambda x:x.upper(),isbool)\n",
        "print(list(result))"
      ],
      "metadata": {
        "colab": {
          "base_uri": "https://localhost:8080/",
          "height": 209
        },
        "id": "heMrl_OSBofj",
        "outputId": "85fc8436-fa6b-47b4-80e0-cd3a15a61251"
      },
      "execution_count": 15,
      "outputs": [
        {
          "output_type": "error",
          "ename": "TypeError",
          "evalue": "ignored",
          "traceback": [
            "\u001b[0;31m---------------------------------------------------------------------------\u001b[0m",
            "\u001b[0;31mTypeError\u001b[0m                                 Traceback (most recent call last)",
            "\u001b[0;32m<ipython-input-15-7d1b501f3ca3>\u001b[0m in \u001b[0;36m<module>\u001b[0;34m()\u001b[0m\n\u001b[1;32m      1\u001b[0m \u001b[0misbool\u001b[0m \u001b[0;34m=\u001b[0m \u001b[0;34m[\u001b[0m\u001b[0;34m'True'\u001b[0m\u001b[0;34m,\u001b[0m\u001b[0;34m'FALse'\u001b[0m\u001b[0;34m,\u001b[0m\u001b[0;34m'tRUe'\u001b[0m\u001b[0;34m,\u001b[0m\u001b[0;34m'tRue'\u001b[0m\u001b[0;34m,\u001b[0m\u001b[0;34m'False'\u001b[0m\u001b[0;34m,\u001b[0m\u001b[0;34m'faLse'\u001b[0m\u001b[0;34m]\u001b[0m\u001b[0;34m\u001b[0m\u001b[0;34m\u001b[0m\u001b[0m\n\u001b[1;32m      2\u001b[0m \u001b[0mresult\u001b[0m \u001b[0;34m=\u001b[0m \u001b[0mmap\u001b[0m\u001b[0;34m(\u001b[0m\u001b[0;32mlambda\u001b[0m \u001b[0mx\u001b[0m\u001b[0;34m:\u001b[0m\u001b[0mx\u001b[0m\u001b[0;34m.\u001b[0m\u001b[0mupper\u001b[0m\u001b[0;34m(\u001b[0m\u001b[0;34m)\u001b[0m\u001b[0;34m,\u001b[0m\u001b[0misbool\u001b[0m\u001b[0;34m)\u001b[0m\u001b[0;34m\u001b[0m\u001b[0;34m\u001b[0m\u001b[0m\n\u001b[0;32m----> 3\u001b[0;31m \u001b[0mprint\u001b[0m\u001b[0;34m(\u001b[0m\u001b[0mlist\u001b[0m\u001b[0;34m(\u001b[0m\u001b[0mresult\u001b[0m\u001b[0;34m)\u001b[0m\u001b[0;34m)\u001b[0m\u001b[0;34m\u001b[0m\u001b[0;34m\u001b[0m\u001b[0m\n\u001b[0m",
            "\u001b[0;31mTypeError\u001b[0m: 'list' object is not callable"
          ]
        }
      ]
    },
    {
      "cell_type": "code",
      "source": [
        "import datetime\n",
        "date = ['17-12-1997','22-04-2011','01-05-1993','19-06-2020']\n",
        "l=[]\n",
        "for i in date:\n",
        "    datem = datetime.datetime.strptime(i, \"%d-%m-%Y\")\n",
        "    l.append(str(datem.year))\n",
        "print(l)"
      ],
      "metadata": {
        "colab": {
          "base_uri": "https://localhost:8080/"
        },
        "id": "KWQbFXcSCeWM",
        "outputId": "1b5fc265-d629-46b3-eb92-771c74c777f1"
      },
      "execution_count": 16,
      "outputs": [
        {
          "output_type": "stream",
          "name": "stdout",
          "text": [
            "['1997', '2011', '1993', '2020']\n"
          ]
        }
      ]
    },
    {
      "cell_type": "code",
      "source": [
        ""
      ],
      "metadata": {
        "id": "EEsNV8aNCl4Q"
      },
      "execution_count": 16,
      "outputs": []
    }
  ]
}